{
 "cells": [
  {
   "cell_type": "code",
   "execution_count": 1,
   "metadata": {},
   "outputs": [
    {
     "name": "stderr",
     "output_type": "stream",
     "text": [
      "<frozen importlib._bootstrap>:219: RuntimeWarning: scipy._lib.messagestream.MessageStream size changed, may indicate binary incompatibility. Expected 56 from C header, got 64 from PyObject\n"
     ]
    }
   ],
   "source": [
    "import numpy as np\n",
    "from scipy import stats\n",
    "import matplotlib.pyplot as plt\n",
    "import seaborn as sns\n",
    "from keras.datasets import imdb\n",
    "from keras_preprocessing.sequence import pad_sequences # cümlelerin uzunluklarını fixlemek için kullanılır\n",
    "from keras.models import Sequential\n",
    "from keras.layers import Embedding # intgerları yoğunluk vektörlerine çevirmek için kullanılır\n",
    "from keras.layers import SimpleRNN, Dense, Activation"
   ]
  },
  {
   "cell_type": "code",
   "execution_count": 2,
   "metadata": {},
   "outputs": [],
   "source": [
    "num_words = 20000\n",
    "max_len = 130\n",
    "(x_train, y_train), (x_test, y_test) = imdb.load_data(num_words=20000)\n"
   ]
  },
  {
   "cell_type": "code",
   "execution_count": 3,
   "metadata": {},
   "outputs": [
    {
     "name": "stdout",
     "output_type": "stream",
     "text": [
      "X_train Type:  <class 'numpy.ndarray'>\n",
      "Y_train Type:  <class 'numpy.ndarray'>\n",
      "X_train shape: (25000,)\n",
      "Y_train shape:  (25000,)\n"
     ]
    }
   ],
   "source": [
    "print(\"X_train Type: \", type(x_train))\n",
    "print(\"Y_train Type: \", type(y_train))\n",
    "print(\"X_train shape:\", x_train.shape)\n",
    "print(\"Y_train shape: \", y_train.shape)"
   ]
  },
  {
   "cell_type": "code",
   "execution_count": 4,
   "metadata": {},
   "outputs": [],
   "source": [
    "num_training_samples = 40000\n",
    "num_testing_samples = 10000\n",
    "\n",
    "# Combine the training and testing data to split them again\n",
    "x_combined = np.concatenate((x_train, x_test), axis=0)\n",
    "y_combined = np.concatenate((y_train, y_test), axis=0)\n",
    "\n",
    "# Shuffle the combined data to ensure random distribution\n",
    "indices = np.arange(len(x_combined))\n",
    "np.random.shuffle(indices)\n",
    "\n",
    "# Select the first num_training_samples for training and the next num_testing_samples for testing\n",
    "x_train = x_combined[indices[:num_training_samples]]\n",
    "y_train = y_combined[indices[:num_training_samples]]\n",
    "x_test = x_combined[indices[num_training_samples:num_training_samples + num_testing_samples]]\n",
    "y_test = y_combined[indices[num_training_samples:num_training_samples + num_testing_samples]]"
   ]
  },
  {
   "cell_type": "code",
   "execution_count": 5,
   "metadata": {},
   "outputs": [
    {
     "name": "stdout",
     "output_type": "stream",
     "text": [
      "X_train Type:  <class 'numpy.ndarray'>\n",
      "Y_train Type:  <class 'numpy.ndarray'>\n",
      "X_train shape: (40000,)\n",
      "Y_train shape:  (40000,)\n",
      "X_test Type:  <class 'numpy.ndarray'>\n",
      "Y_test Type:  <class 'numpy.ndarray'>\n",
      "X_test shape: (10000,)\n",
      "Y_test shape:  (10000,)\n"
     ]
    }
   ],
   "source": [
    "print(\"X_train Type: \", type(x_train))\n",
    "print(\"Y_train Type: \", type(y_train))\n",
    "print(\"X_train shape:\", x_train.shape)\n",
    "print(\"Y_train shape: \", y_train.shape)\n",
    "\n",
    "print(\"X_test Type: \", type(x_test))\n",
    "print(\"Y_test Type: \", type(y_test))\n",
    "print(\"X_test shape:\", x_test.shape)\n",
    "print(\"Y_test shape: \", y_test.shape)"
   ]
  },
  {
   "cell_type": "code",
   "execution_count": 6,
   "metadata": {},
   "outputs": [],
   "source": [
    "# pad_sequences -> same length\n",
    "x_train = pad_sequences(x_train, maxlen=max_len)\n",
    "x_test = pad_sequences(x_test, maxlen=max_len)"
   ]
  },
  {
   "cell_type": "code",
   "execution_count": 7,
   "metadata": {
    "scrolled": false
   },
   "outputs": [
    {
     "name": "stdout",
     "output_type": "stream",
     "text": [
      "[[    7     4  1473 ...    16    41   559]\n",
      " [    0     0     0 ...     5  1035  1962]\n",
      " [ 1060   455     4 ...     6  1520   136]\n",
      " ...\n",
      " [10579   196 18134 ...    14 14723  1528]\n",
      " [  127    14   306 ...  2631     5 11391]\n",
      " [   18  1378     2 ...    58     5   174]]\n"
     ]
    }
   ],
   "source": [
    "print(x_train)"
   ]
  },
  {
   "cell_type": "code",
   "execution_count": 8,
   "metadata": {},
   "outputs": [],
   "source": [
    "y_train = np.array(y_train)\n",
    "y_test = np.array(y_test)"
   ]
  },
  {
   "cell_type": "code",
   "execution_count": 9,
   "metadata": {},
   "outputs": [
    {
     "name": "stdout",
     "output_type": "stream",
     "text": [
      "Model: \"sequential\"\n",
      "_________________________________________________________________\n",
      " Layer (type)                Output Shape              Param #   \n",
      "=================================================================\n",
      " embedding (Embedding)       (None, 130, 32)           640000    \n",
      "                                                                 \n",
      " simple_rnn (SimpleRNN)      (None, 64)                6208      \n",
      "                                                                 \n",
      " dense (Dense)               (None, 1)                 65        \n",
      "                                                                 \n",
      " activation (Activation)     (None, 1)                 0         \n",
      "                                                                 \n",
      "=================================================================\n",
      "Total params: 646,273\n",
      "Trainable params: 646,273\n",
      "Non-trainable params: 0\n",
      "_________________________________________________________________\n",
      "None\n"
     ]
    }
   ],
   "source": [
    "rnn = Sequential()\n",
    "\n",
    "# Embedding layer\n",
    "embedding_dim = 32\n",
    "rnn.add(Embedding(num_words, embedding_dim, input_length=max_len))\n",
    "\n",
    "# SimpleRNN layer with 64 nodes and relu activation\n",
    "rnn.add(SimpleRNN(64, input_shape=(num_words, max_len), activation=\"relu\"))\n",
    "\n",
    "# Dense output layer\n",
    "rnn.add(Dense(1))\n",
    "rnn.add(Activation(\"sigmoid\"))\n",
    "\n",
    "# Print the summary of the model\n",
    "print(rnn.summary())\n",
    "\n",
    "# Compile the model\n",
    "rnn.compile(loss=\"binary_crossentropy\", optimizer=\"rmsprop\", metrics=[\"accuracy\"])"
   ]
  },
  {
   "cell_type": "code",
   "execution_count": 10,
   "metadata": {},
   "outputs": [
    {
     "name": "stdout",
     "output_type": "stream",
     "text": [
      "Epoch 1/5\n",
      "313/313 [==============================] - 12s 30ms/step - loss: 0.7321 - accuracy: 0.7336 - val_loss: 0.3648 - val_accuracy: 0.8470\n",
      "Epoch 2/5\n",
      "313/313 [==============================] - 9s 27ms/step - loss: 0.3873 - accuracy: 0.8622 - val_loss: 0.3126 - val_accuracy: 0.8720\n",
      "Epoch 3/5\n",
      "313/313 [==============================] - 9s 27ms/step - loss: 0.2911 - accuracy: 0.8873 - val_loss: 0.3424 - val_accuracy: 0.8648\n",
      "Epoch 4/5\n",
      "313/313 [==============================] - 9s 28ms/step - loss: 0.3291 - accuracy: 0.9007 - val_loss: 0.3019 - val_accuracy: 0.8744\n",
      "Epoch 5/5\n",
      "313/313 [==============================] - 8s 27ms/step - loss: 0.2294 - accuracy: 0.9142 - val_loss: 0.3112 - val_accuracy: 0.8774\n"
     ]
    }
   ],
   "source": [
    "history = rnn.fit(np.array(x_train), np.array(y_train), validation_data=(np.array(x_test), np.array(y_test)), epochs=5, batch_size=128, verbose=1)"
   ]
  },
  {
   "cell_type": "code",
   "execution_count": 13,
   "metadata": {},
   "outputs": [],
   "source": [
    "# Function to classify the sentiment of a sentence\n",
    "def classify_sentiment(sentence):\n",
    "    # Preprocess the input sentence and convert it to a sequence\n",
    "    word_to_index = imdb.get_word_index()\n",
    "    sentence = sentence.lower().split()\n",
    "    sequence = []\n",
    "    for word in sentence:\n",
    "        index = word_to_index.get(word, 0)  # Use index 0 for unknown words\n",
    "        if index < num_words:\n",
    "            sequence.append(index + 3)  # Add 3 to the index to account for reserved indices (0, 1, 2)\n",
    "    sequence = pad_sequences([sequence], maxlen=max_len)\n",
    "    \n",
    "    # Predict the sentiment using the trained model\n",
    "    prediction = rnn.predict(sequence)[0][0]\n",
    "    \n",
    "    # Return the result\n",
    "    if prediction >= 0.5:\n",
    "        return \"Positive\"\n",
    "    else:\n",
    "        return \"Negative\""
   ]
  },
  {
   "cell_type": "code",
   "execution_count": 18,
   "metadata": {},
   "outputs": [
    {
     "name": "stdout",
     "output_type": "stream",
     "text": [
      "1/1 [==============================] - 0s 35ms/step\n",
      "Sentence: 'I love this movie' \n",
      "Sentiment: Positive\n"
     ]
    }
   ],
   "source": [
    "input_sentence = \"I love this movie\"\n",
    "result = classify_sentiment(input_sentence)\n",
    "print(f\"Sentence: '{input_sentence}' \\nSentiment: {result}\")"
   ]
  },
  {
   "cell_type": "code",
   "execution_count": 16,
   "metadata": {},
   "outputs": [
    {
     "name": "stdout",
     "output_type": "stream",
     "text": [
      "313/313 [==============================] - 3s 10ms/step - loss: 0.3112 - accuracy: 0.8774\n",
      "Accuracy: % 87.73999810218811\n",
      "{'loss': [0.7320635318756104, 0.38731977343559265, 0.291098952293396, 0.3291179835796356, 0.22944577038288116], 'accuracy': [0.7336249947547913, 0.8622000217437744, 0.8873249888420105, 0.9007499814033508, 0.9141749739646912], 'val_loss': [0.3647884130477905, 0.3126174509525299, 0.342369943857193, 0.30189868807792664, 0.3112466633319855], 'val_accuracy': [0.847000002861023, 0.871999979019165, 0.864799976348877, 0.8744000196456909, 0.8773999810218811]}\n"
     ]
    },
    {
     "data": {
      "image/png": "[encoded data removed]",
      "text/plain": [
       "<Figure size 432x288 with 1 Axes>"
      ]
     },
     "metadata": {
      "needs_background": "light"
     },
     "output_type": "display_data"
    },
    {
     "data": {
      "image/png": "[encoded data removed]",
      "text/plain": [
       "<Figure size 432x288 with 1 Axes>"
      ]
     },
     "metadata": {
      "needs_background": "light"
     },
     "output_type": "display_data"
    }
   ],
   "source": [
    "score = rnn.evaluate(x_test, y_test)\n",
    "print(\"Accuracy: %\", score[1]*100)\n",
    "\n",
    "print(history.history)\n",
    "\n",
    "plt.figure()\n",
    "plt.plot(history.history[\"accuracy\"], label = \"Train\")\n",
    "plt.plot(history.history[\"val_accuracy\"], label = \"Test\")\n",
    "plt.title(\"Accuracy\")\n",
    "plt.ylabel(\"Accuracy\")\n",
    "plt.xlabel(\"Epochs\")\n",
    "plt.legend()\n",
    "plt.show()\n",
    "\n",
    "plt.figure()\n",
    "plt.plot(history.history[\"loss\"], label = \"Train\")\n",
    "plt.plot(history.history[\"val_loss\"], label = \"Test\")\n",
    "plt.title(\"Accuracy\")\n",
    "plt.ylabel(\"Accuracy\")\n",
    "plt.xlabel(\"Epochs\")\n",
    "plt.legend()\n",
    "plt.show()"
   ]
  }
 ],
 "metadata": {
  "kernelspec": {
   "display_name": "Python 3",
   "language": "python",
   "name": "python3"
  },
  "language_info": {
   "codemirror_mode": {
    "name": "ipython",
    "version": 3
   },
   "file_extension": ".py",
   "mimetype": "text/x-python",
   "name": "python",
   "nbconvert_exporter": "python",
   "pygments_lexer": "ipython3",
   "version": "3.8.8"
  }
 },
 "nbformat": 4,
 "nbformat_minor": 4
}
