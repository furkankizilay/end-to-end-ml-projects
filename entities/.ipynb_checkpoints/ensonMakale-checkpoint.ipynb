{
 "cells": [
  {
   "cell_type": "code",
   "execution_count": null,
   "id": "f1078a4c",
   "metadata": {},
   "outputs": [],
   "source": [
    "import pandas as pd\n",
    "import numpy as np\n",
    "from matplotlib import pyplot as plt\n",
    "%matplotlib inline\n",
    "import matplotlib\n",
    "import seaborn as sns"
   ]
  },
  {
   "cell_type": "markdown",
   "id": "0c56f92f",
   "metadata": {},
   "source": [
    "## Data Load: Load home prices into a dataframe"
   ]
  },
  {
   "cell_type": "code",
   "execution_count": null,
   "id": "3efb11cd",
   "metadata": {},
   "outputs": [],
   "source": [
    "df = pd.read_csv(\"Entities.csv\")\n",
    "df.head()"
   ]
  },
  {
   "cell_type": "markdown",
   "id": "45c1c500",
   "metadata": {},
   "source": [
    "### Let's get to know the dataframe"
   ]
  },
  {
   "cell_type": "code",
   "execution_count": null,
   "id": "5911c94a",
   "metadata": {},
   "outputs": [],
   "source": [
    "df.info()"
   ]
  },
  {
   "cell_type": "code",
   "execution_count": null,
   "id": "da974b66",
   "metadata": {},
   "outputs": [],
   "source": [
    "df.shape"
   ]
  },
  {
   "cell_type": "code",
   "execution_count": null,
   "id": "52decf06",
   "metadata": {},
   "outputs": [],
   "source": [
    "df.describe()"
   ]
  },
  {
   "cell_type": "code",
   "execution_count": null,
   "id": "0877dfc3",
   "metadata": {},
   "outputs": [],
   "source": [
    "df.columns"
   ]
  },
  {
   "cell_type": "code",
   "execution_count": null,
   "id": "bbce8109",
   "metadata": {},
   "outputs": [],
   "source": [
    "df.city.value_counts()"
   ]
  },
  {
   "cell_type": "code",
   "execution_count": null,
   "id": "0046bfe0",
   "metadata": {},
   "outputs": [],
   "source": [
    "df.province_name.value_counts()"
   ]
  },
  {
   "cell_type": "markdown",
   "id": "dbab3b9a",
   "metadata": {},
   "source": [
    "## Drop features that are not required to build our model"
   ]
  },
  {
   "cell_type": "code",
   "execution_count": null,
   "id": "00fc2801",
   "metadata": {},
   "outputs": [],
   "source": [
    "df2 = df.drop([\"Unnamed: 0\",\"property_id\",\"location_id\",\"page_url\",\"province_name\",\"latitude\",\"longitude\",\"date_added\",\"agency\",\"agent\"], axis = 1)\n",
    "df2.head()"
   ]
  },
  {
   "cell_type": "markdown",
   "id": "8c4624c2",
   "metadata": {},
   "source": [
    "## Data Cleaning : Handle NA values"
   ]
  },
  {
   "cell_type": "code",
   "execution_count": null,
   "id": "5f461b1f",
   "metadata": {},
   "outputs": [],
   "source": [
    "df2.isnull().sum()"
   ]
  },
  {
   "cell_type": "markdown",
   "id": "43a3357f",
   "metadata": {},
   "source": [
    "### Can any house have a price of 0 ?"
   ]
  },
  {
   "cell_type": "code",
   "execution_count": null,
   "id": "89455497",
   "metadata": {},
   "outputs": [],
   "source": [
    "df2 = df2[~(df2[\"price\"] == 0)]"
   ]
  },
  {
   "cell_type": "markdown",
   "id": "fcd5450d",
   "metadata": {},
   "source": [
    "### Can any house have a area of 0 ?"
   ]
  },
  {
   "cell_type": "code",
   "execution_count": null,
   "id": "a04bd7e9",
   "metadata": {},
   "outputs": [],
   "source": [
    "df2 = df2[~(df2[\"Total_Area\"] == 0)]"
   ]
  },
  {
   "cell_type": "markdown",
   "id": "ad28e0d8",
   "metadata": {},
   "source": [
    "### We are researching the prices of houses for sale"
   ]
  },
  {
   "cell_type": "code",
   "execution_count": null,
   "id": "e11d8e4f",
   "metadata": {},
   "outputs": [],
   "source": [
    "df2 = df2[~(df2[\"purpose\"] == \"For Rent\")]"
   ]
  },
  {
   "cell_type": "markdown",
   "id": "345d28ef",
   "metadata": {},
   "source": [
    "## Feature Engineering"
   ]
  },
  {
   "cell_type": "code",
   "execution_count": null,
   "id": "d3d46ecc",
   "metadata": {},
   "outputs": [],
   "source": [
    "df3 = df2.copy()"
   ]
  },
  {
   "cell_type": "code",
   "execution_count": null,
   "id": "95e566e6",
   "metadata": {},
   "outputs": [],
   "source": [
    "df3.drop(\"purpose\",axis=1,inplace=True)"
   ]
  },
  {
   "cell_type": "code",
   "execution_count": null,
   "id": "9f503991",
   "metadata": {},
   "outputs": [],
   "source": [
    "df3.head()"
   ]
  },
  {
   "cell_type": "markdown",
   "id": "6be9542a",
   "metadata": {},
   "source": [
    "### Let's add a label that shows the total number of rooms in the houses."
   ]
  },
  {
   "cell_type": "code",
   "execution_count": null,
   "id": "75033cb2",
   "metadata": {},
   "outputs": [],
   "source": [
    "df3[\"total_rooms\"] = df3[\"baths\"] + df3[\"bedrooms\"]"
   ]
  },
  {
   "cell_type": "markdown",
   "id": "7feec197",
   "metadata": {},
   "source": [
    "### Can any house have a 0 rooms ?"
   ]
  },
  {
   "cell_type": "code",
   "execution_count": null,
   "id": "22195c0f",
   "metadata": {},
   "outputs": [],
   "source": [
    "df3 = df3[~(df3[\"total_rooms\"] == 0)]"
   ]
  },
  {
   "cell_type": "markdown",
   "id": "40008e31",
   "metadata": {},
   "source": [
    "### Let's add a label showing the price per square meter for each house."
   ]
  },
  {
   "cell_type": "code",
   "execution_count": null,
   "id": "34b649e2",
   "metadata": {},
   "outputs": [],
   "source": [
    "df3[\"price_per_sqft\"] = df3[\"price\"] / df3[\"Total_Area\"]"
   ]
  },
  {
   "cell_type": "code",
   "execution_count": null,
   "id": "2558fe80",
   "metadata": {},
   "outputs": [],
   "source": [
    "df3.head()"
   ]
  },
  {
   "cell_type": "markdown",
   "id": "f6445855",
   "metadata": {},
   "source": [
    "## Dimensionality Reduction"
   ]
  },
  {
   "cell_type": "markdown",
   "id": "d8c951b2",
   "metadata": {},
   "source": [
    "Any location having less than 100 data points should be tagged as \"other\" location."
   ]
  },
  {
   "cell_type": "code",
   "execution_count": null,
   "id": "311fd47c",
   "metadata": {},
   "outputs": [],
   "source": [
    "location_stats = df3[\"location\"].value_counts(ascending = False)\n",
    "location_stats"
   ]
  },
  {
   "cell_type": "code",
   "execution_count": null,
   "id": "17f6f6cb",
   "metadata": {},
   "outputs": [],
   "source": [
    "location_stats.values.sum()"
   ]
  },
  {
   "cell_type": "code",
   "execution_count": null,
   "id": "05e4812d",
   "metadata": {},
   "outputs": [],
   "source": [
    "len(location_stats[location_stats>100])"
   ]
  },
  {
   "cell_type": "code",
   "execution_count": null,
   "id": "c0c781cc",
   "metadata": {},
   "outputs": [],
   "source": [
    "len(location_stats)"
   ]
  },
  {
   "cell_type": "code",
   "execution_count": null,
   "id": "993a9204",
   "metadata": {},
   "outputs": [],
   "source": [
    "len(location_stats[location_stats<=100])"
   ]
  },
  {
   "cell_type": "code",
   "execution_count": null,
   "id": "17dbbd1f",
   "metadata": {},
   "outputs": [],
   "source": [
    "location_stats_less_than_100 = location_stats[location_stats<=100]\n",
    "location_stats_less_than_100"
   ]
  },
  {
   "cell_type": "code",
   "execution_count": null,
   "id": "b021a23d",
   "metadata": {},
   "outputs": [],
   "source": [
    "df3.location = df3.location.apply(lambda x: \"other\" if x in location_stats_less_than_100 else x)\n",
    "len(df3.location.unique())"
   ]
  },
  {
   "cell_type": "code",
   "execution_count": null,
   "id": "15918d3c",
   "metadata": {},
   "outputs": [],
   "source": [
    "df3.head()"
   ]
  },
  {
   "cell_type": "code",
   "execution_count": null,
   "id": "52fc0c6c",
   "metadata": {},
   "outputs": [],
   "source": [
    "df3.shape"
   ]
  },
  {
   "cell_type": "markdown",
   "id": "ec462bbf",
   "metadata": {},
   "source": [
    "## Outlier Removal Using Standard Deviation and Mean"
   ]
  },
  {
   "cell_type": "code",
   "execution_count": null,
   "id": "409b69a9",
   "metadata": {},
   "outputs": [],
   "source": [
    "df3.price_per_sqft.describe()"
   ]
  },
  {
   "cell_type": "markdown",
   "id": "379a9c68",
   "metadata": {},
   "source": [
    "### We should remove outliers per location using mean and one standard deviation"
   ]
  },
  {
   "cell_type": "code",
   "execution_count": null,
   "id": "4f406382",
   "metadata": {},
   "outputs": [],
   "source": [
    "df3.groupby(\"location\").mean()"
   ]
  },
  {
   "cell_type": "code",
   "execution_count": null,
   "id": "c8644f10",
   "metadata": {},
   "outputs": [],
   "source": [
    "def remove_pps_outliers(df) :\n",
    "    df_out = pd.DataFrame()\n",
    "    for key, subdf in df.groupby(\"location\") :\n",
    "        m = np.mean(subdf.price_per_sqft)\n",
    "        st = np.std(subdf.price_per_sqft)\n",
    "        reduced_df = subdf[(subdf.price_per_sqft>(m-st)) & (subdf.price_per_sqft <= (m+st))]\n",
    "        df_out = pd.concat([df_out, reduced_df], ignore_index = True)\n",
    "    return df_out\n",
    "df4 = remove_pps_outliers(df3)\n",
    "df4.shape"
   ]
  },
  {
   "cell_type": "code",
   "execution_count": null,
   "id": "666d439d",
   "metadata": {},
   "outputs": [],
   "source": [
    "df4.head()"
   ]
  },
  {
   "cell_type": "code",
   "execution_count": null,
   "id": "ddb3549b",
   "metadata": {},
   "outputs": [],
   "source": [
    "def plot_scatter_chart(df,location) :\n",
    "    less_than_10 = df[(df.location == location) & (df.total_rooms < 6)]\n",
    "    more_than_10 = df[(df.location == location) & (df.total_rooms >= 6)]\n",
    "    matplotlib.rcParams[\"figure.figsize\"] = (15,10)\n",
    "    plt.scatter(less_than_10.Total_Area, less_than_10.price, color = \"blue\", label = \"less_than_6\", s = 50)\n",
    "    plt.scatter(more_than_10.Total_Area, more_than_10.price, marker = \"+\", color = \"green\", label = \"more_than_6\", s = 50)\n",
    "    plt.xlabel(\"Total Square Feet Area\")\n",
    "    plt.ylabel(\"Price\")\n",
    "    plt.title(location)\n",
    "    plt.legend()\n",
    "    \n",
    "plot_scatter_chart(df4, \"Multan Road\")"
   ]
  },
  {
   "cell_type": "code",
   "execution_count": null,
   "id": "fbc8933e",
   "metadata": {},
   "outputs": [],
   "source": [
    "def remove_room_outliers(df) :\n",
    "    exclude_indices = np.array([])\n",
    "    for location, location_df in df.groupby(\"location\") :\n",
    "        room_stats = {}\n",
    "        for room, room_df in location_df.groupby(\"total_rooms\") :\n",
    "            room_stats[room] = {\n",
    "                \"mean\" : np.mean(room_df.price_per_sqft),\n",
    "                \"std\" : np.std(room_df.price_per_sqft),\n",
    "                \"count\" : room_df.shape[0]\n",
    "            }\n",
    "        for room, room_df in location_df.groupby(\"total_rooms\"):\n",
    "            stats = room_stats.get(room - 1)\n",
    "            if stats and stats[\"count\"]> 5 :\n",
    "                exclude_indices = np.append(exclude_indices, room_df[room_df.price_per_sqft<(stats[\"mean\"])].index.values)\n",
    "    return df.drop(exclude_indices, axis=\"index\")\n",
    "df5 = remove_room_outliers(df4)\n",
    "df5.shape"
   ]
  },
  {
   "cell_type": "code",
   "execution_count": null,
   "id": "645c2be8",
   "metadata": {},
   "outputs": [],
   "source": [
    "plot_scatter_chart(df5, \"Multan Road\")"
   ]
  },
  {
   "cell_type": "markdown",
   "id": "321bc381",
   "metadata": {},
   "source": [
    "#### It can be seen that the blue and green dots are more separated from each other after the outliers are removed"
   ]
  },
  {
   "cell_type": "markdown",
   "id": "0a9342f4",
   "metadata": {},
   "source": [
    "## Outlier Removal Using Bathrooms Feature"
   ]
  },
  {
   "cell_type": "code",
   "execution_count": null,
   "id": "7f460e50",
   "metadata": {},
   "outputs": [],
   "source": [
    "df5.head()"
   ]
  },
  {
   "cell_type": "code",
   "execution_count": null,
   "id": "85fa4662",
   "metadata": {},
   "outputs": [],
   "source": [
    "plt.hist(df5.baths, rwidth=0.8)\n",
    "plt.xlabel(\"Number of bathrooms\")\n",
    "plt.ylabel(\"Count\")"
   ]
  },
  {
   "cell_type": "markdown",
   "id": "5294e468",
   "metadata": {},
   "source": [
    "### It is unusual to have 5 more bathrooms than number of bedrooms in a home"
   ]
  },
  {
   "cell_type": "code",
   "execution_count": null,
   "id": "c9569a6a",
   "metadata": {},
   "outputs": [],
   "source": [
    "df5[df5.baths>df5.bedrooms+5].head()"
   ]
  },
  {
   "cell_type": "code",
   "execution_count": null,
   "id": "1338f92b",
   "metadata": {},
   "outputs": [],
   "source": [
    "df6 = df5[df5.baths<df5.bedrooms+5]"
   ]
  },
  {
   "cell_type": "code",
   "execution_count": null,
   "id": "06a461f4",
   "metadata": {},
   "outputs": [],
   "source": [
    "df6.head()"
   ]
  },
  {
   "cell_type": "code",
   "execution_count": null,
   "id": "60dd93a5",
   "metadata": {},
   "outputs": [],
   "source": [
    "my_list = [\"price\",\"baths\",\"bedrooms\",\"Total_Area\"]"
   ]
  },
  {
   "cell_type": "code",
   "execution_count": null,
   "id": "0c05e7f0",
   "metadata": {},
   "outputs": [],
   "source": [
    "df7 = df6.copy()"
   ]
  },
  {
   "cell_type": "code",
   "execution_count": null,
   "id": "ea75d1b7",
   "metadata": {},
   "outputs": [],
   "source": [
    "\"\"\"for column in my_list :\n",
    "    for location in df7[\"location\"].unique() :\n",
    "        selected_location = df7[df7[\"location\"] == location]\n",
    "        selected_column = selected_location[column]\n",
    "        \n",
    "        q1 = selected_column.quantile(0.25)\n",
    "        q3 = selected_column.quantile(0.75)\n",
    "        \n",
    "        iqr = q3-q1\n",
    "        \n",
    "        minimum = q1 - (1.5*iqr)\n",
    "        maximum = q3 + (1.5*iqr)\n",
    "        \n",
    "        print(column,location,minimum, maximum)\n",
    "        \n",
    "        max_index = df7[(df7[\"location\"] == location) & (df7[column] > maximum)].index\n",
    "        min_index = df7[(df7[\"location\"] == location) & (df7[column] < minimum)].index\n",
    "        \n",
    "        df7.drop(index = max_index, inplace = True)\n",
    "        df7.drop(index = min_index, inplace = True)\"\"\""
   ]
  },
  {
   "cell_type": "code",
   "execution_count": null,
   "id": "738a03fc",
   "metadata": {},
   "outputs": [],
   "source": [
    "df7.shape"
   ]
  },
  {
   "cell_type": "markdown",
   "id": "a57d9117",
   "metadata": {},
   "source": [
    "## Data Visualization"
   ]
  },
  {
   "cell_type": "code",
   "execution_count": null,
   "id": "d30d8bc0",
   "metadata": {},
   "outputs": [],
   "source": [
    "sns.boxplot(x = \"city\", y = \"price_per_sqft\",data = df7);"
   ]
  },
  {
   "cell_type": "markdown",
   "id": "8147b1a0",
   "metadata": {},
   "source": [
    "### categorical variable summaries"
   ]
  },
  {
   "cell_type": "code",
   "execution_count": null,
   "id": "162f94c1",
   "metadata": {},
   "outputs": [],
   "source": [
    "df7[\"city\"].value_counts().plot.barh();"
   ]
  },
  {
   "cell_type": "code",
   "execution_count": null,
   "id": "6c488545",
   "metadata": {},
   "outputs": [],
   "source": [
    "sns.barplot(x = \"city\", y = df7.city.index, data = df7);"
   ]
  },
  {
   "cell_type": "code",
   "execution_count": null,
   "id": "87bb5297",
   "metadata": {},
   "outputs": [],
   "source": [
    "sns.barplot(x = \"city\", y = \"price\", hue = \"property_type\", data = df7);"
   ]
  },
  {
   "cell_type": "markdown",
   "id": "c4917c62",
   "metadata": {},
   "source": [
    "### continuous variable summaries"
   ]
  },
  {
   "cell_type": "code",
   "execution_count": null,
   "id": "a1c64c82",
   "metadata": {},
   "outputs": [],
   "source": [
    "df_num = df7.select_dtypes(include = [\"float64\",\"int64\"])"
   ]
  },
  {
   "cell_type": "code",
   "execution_count": null,
   "id": "60f5de91",
   "metadata": {},
   "outputs": [],
   "source": [
    "df_num.head()"
   ]
  },
  {
   "cell_type": "code",
   "execution_count": null,
   "id": "801ed5b5",
   "metadata": {},
   "outputs": [],
   "source": [
    "df_num.describe().T"
   ]
  },
  {
   "cell_type": "code",
   "execution_count": null,
   "id": "aaf40983",
   "metadata": {},
   "outputs": [],
   "source": [
    "sns.kdeplot(df7.price_per_sqft, shade= True);"
   ]
  },
  {
   "cell_type": "code",
   "execution_count": null,
   "id": "8c837b52",
   "metadata": {},
   "outputs": [],
   "source": [
    "(sns\n",
    " .FacetGrid(df7,\n",
    "              hue= \"city\",\n",
    "              height = 5,\n",
    "              xlim = (0,10000))\n",
    " .map(sns.kdeplot,\"price_per_sqft\",shade = True)\n",
    " .add_legend()\n",
    ");"
   ]
  },
  {
   "cell_type": "markdown",
   "id": "8a4cc9ae",
   "metadata": {},
   "source": [
    "## Scatter"
   ]
  },
  {
   "cell_type": "code",
   "execution_count": null,
   "id": "9e00f6fe",
   "metadata": {},
   "outputs": [],
   "source": [
    "df7.head()"
   ]
  },
  {
   "cell_type": "markdown",
   "id": "4673ee90",
   "metadata": {},
   "source": [
    "## Use One Hot Encoding For Location"
   ]
  },
  {
   "cell_type": "code",
   "execution_count": null,
   "id": "36a9df74",
   "metadata": {},
   "outputs": [],
   "source": [
    "df7.head()"
   ]
  },
  {
   "cell_type": "code",
   "execution_count": null,
   "id": "ab8cbaa7",
   "metadata": {},
   "outputs": [],
   "source": [
    "df8 = df7.drop([\"price_per_sqft\",\"total_rooms\"],axis = 1)\n",
    "df8.head()"
   ]
  },
  {
   "cell_type": "code",
   "execution_count": null,
   "id": "5b63bb1e",
   "metadata": {},
   "outputs": [],
   "source": [
    "df9 = pd.get_dummies(df8)\n",
    "df9.head()"
   ]
  },
  {
   "cell_type": "code",
   "execution_count": null,
   "id": "2d685bec",
   "metadata": {},
   "outputs": [],
   "source": [
    "X = df9.drop([\"price\"], axis = \"columns\")"
   ]
  },
  {
   "cell_type": "code",
   "execution_count": null,
   "id": "67be4456",
   "metadata": {},
   "outputs": [],
   "source": [
    "y = df9.price"
   ]
  },
  {
   "cell_type": "code",
   "execution_count": null,
   "id": "fe5390e6",
   "metadata": {},
   "outputs": [],
   "source": [
    "from sklearn.model_selection import train_test_split\n",
    "X_train, X_test, y_train, y_test = train_test_split(X,y,test_size=0.2,random_state=10)"
   ]
  },
  {
   "cell_type": "code",
   "execution_count": null,
   "id": "6156116d",
   "metadata": {},
   "outputs": [],
   "source": [
    "from sklearn.linear_model import LinearRegression\n",
    "lr_clf = LinearRegression()\n",
    "lr_clf.fit(X_train, y_train)\n",
    "lr_clf.score(X_test, y_test)"
   ]
  },
  {
   "cell_type": "code",
   "execution_count": null,
   "id": "67653b40",
   "metadata": {},
   "outputs": [],
   "source": [
    "from sklearn.model_selection import ShuffleSplit\n",
    "from sklearn.model_selection import cross_val_score\n",
    "\n",
    "cv = ShuffleSplit(n_splits = 5, test_size = 0.2, random_state=0)\n",
    "\n",
    "cross_val_score(LinearRegression(), X, y, cv=cv)"
   ]
  },
  {
   "cell_type": "code",
   "execution_count": null,
   "id": "c0af564b",
   "metadata": {},
   "outputs": [],
   "source": [
    "from sklearn.model_selection import GridSearchCV\n",
    "\n",
    "from sklearn.linear_model import Lasso\n",
    "from sklearn.tree import DecisionTreeRegressor\n",
    "\n",
    "def find_best_model_using_gridsearchcv(X,y):\n",
    "    algos = {\n",
    "        'linear_regression' : {\n",
    "            'model': LinearRegression(),\n",
    "            'params': {\n",
    "                'normalize': [True, False]\n",
    "            }\n",
    "        },\n",
    "        'lasso': {\n",
    "            'model': Lasso(),\n",
    "            'params': {\n",
    "                'alpha': [1,2],\n",
    "                'selection': ['random', 'cyclic']\n",
    "            }\n",
    "        },\n",
    "        'decision_tree': {\n",
    "            'model': DecisionTreeRegressor(),\n",
    "            'params': {\n",
    "                'criterion' : ['mse','friedman_mse'],\n",
    "                'splitter': ['best','random']\n",
    "            }\n",
    "        }\n",
    "    }\n",
    "    scores = []\n",
    "    cv = ShuffleSplit(n_splits = 5, test_size=0.2, random_state = 0)\n",
    "    for algo_name, config in algos.items() :\n",
    "        gs = GridSearchCV(config[\"model\"], config[\"params\"], cv = cv, return_train_score=False)\n",
    "        gs.fit(X,y)\n",
    "        scores.append({\n",
    "            \"model\" : algo_name,\n",
    "            \"best_score\" : gs.best_score_,\n",
    "            \"best_params\" : gs.best_params_\n",
    "        })\n",
    "        \n",
    "    return pd.DataFrame(scores,columns=[\"model\",\"best_score\",\"best_params\"])\n",
    "find_best_model_using_gridsearchcv(X,y)"
   ]
  },
  {
   "cell_type": "code",
   "execution_count": null,
   "id": "a31a8849",
   "metadata": {},
   "outputs": [],
   "source": [
    "import numpy as np\n",
    "import pandas as pd\n",
    "from sklearn.model_selection import train_test_split, GridSearchCV\n",
    "from sklearn.metrics import mean_squared_error, r2_score\n",
    "import matplotlib.pyplot as plt\n",
    "from sklearn.preprocessing import scale\n",
    "from sklearn.preprocessing import StandardScaler\n",
    "from sklearn import model_selection\n",
    "from sklearn.linear_model import LinearRegression\n",
    "from sklearn.tree import DecisionTreeRegressor\n",
    "from sklearn.neighbors import KNeighborsRegressor\n",
    "from sklearn.neural_network import MLPRegressor\n",
    "from sklearn.ensemble import RandomForestRegressor\n",
    "from sklearn.ensemble import GradientBoostingRegressor\n",
    "from sklearn import neighbors\n",
    "from sklearn.svm import SVR\n",
    "from lightgbm import LGBMRegressor\n",
    "import xgboost\n",
    "from xgboost import XGBRegressor"
   ]
  },
  {
   "cell_type": "code",
   "execution_count": null,
   "id": "4dd69414",
   "metadata": {},
   "outputs": [],
   "source": [
    "def compML(df, y, alg) :\n",
    "    # train test ayrımı\n",
    "    y = df[y]\n",
    "    X = df.drop([\"price\"], axis=\"columns\")\n",
    "    X_train, X_test, y_train, y_test = train_test_split(X, y, test_size = 0.25, random_state = 42)\n",
    "    \n",
    "    # modelleme\n",
    "    model = alg().fit(X_train, y_train)\n",
    "    score = model.score(X_test, y_test)\n",
    "    model_ismi = alg.__name__\n",
    "    print(model_ismi,\":\", score)\n",
    "    "
   ]
  },
  {
   "cell_type": "code",
   "execution_count": null,
   "id": "7cecbe5e",
   "metadata": {},
   "outputs": [],
   "source": [
    "models = [LGBMRegressor,\n",
    "         XGBRegressor,\n",
    "         GradientBoostingRegressor,\n",
    "         RandomForestRegressor,\n",
    "         DecisionTreeRegressor,\n",
    "         MLPRegressor,\n",
    "         KNeighborsRegressor,\n",
    "         SVR]"
   ]
  },
  {
   "cell_type": "code",
   "execution_count": null,
   "id": "ea5e3b34",
   "metadata": {},
   "outputs": [],
   "source": [
    "for i in models :\n",
    "    compML(df9, \"price\", i)"
   ]
  },
  {
   "cell_type": "code",
   "execution_count": null,
   "id": "243d4748",
   "metadata": {},
   "outputs": [],
   "source": []
  },
  {
   "cell_type": "code",
   "execution_count": null,
   "id": "5e1606fe",
   "metadata": {},
   "outputs": [],
   "source": []
  }
 ],
 "metadata": {
  "kernelspec": {
   "display_name": "Python 3",
   "language": "python",
   "name": "python3"
  },
  "language_info": {
   "codemirror_mode": {
    "name": "ipython",
    "version": 3
   },
   "file_extension": ".py",
   "mimetype": "text/x-python",
   "name": "python",
   "nbconvert_exporter": "python",
   "pygments_lexer": "ipython3",
   "version": "3.8.8"
  }
 },
 "nbformat": 4,
 "nbformat_minor": 5
}
